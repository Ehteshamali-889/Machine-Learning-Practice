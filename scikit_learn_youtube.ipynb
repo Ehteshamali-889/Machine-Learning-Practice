{
  "nbformat": 4,
  "nbformat_minor": 0,
  "metadata": {
    "colab": {
      "name": "scikit-learn-youtube.ipynb",
      "provenance": []
    },
    "kernelspec": {
      "name": "python3",
      "display_name": "Python 3"
    },
    "language_info": {
      "name": "python"
    }
  },
  "cells": [
    {
      "cell_type": "code",
      "execution_count": null,
      "metadata": {
        "id": "nDIaSVJrWeIr"
      },
      "outputs": [],
      "source": [
        "import sklearn\n",
        "from sklearn import datasets\n",
        "dir(datasets)"
      ]
    },
    {
      "cell_type": "code",
      "source": [
        "iris=datasets.load_iris()\n",
        "print(iris.feature_names)"
      ],
      "metadata": {
        "colab": {
          "base_uri": "https://localhost:8080/"
        },
        "id": "ciKboIaQW1pc",
        "outputId": "858f7d1d-5614-429e-a471-448f39ffe7ee"
      },
      "execution_count": null,
      "outputs": [
        {
          "output_type": "stream",
          "name": "stdout",
          "text": [
            "['sepal length (cm)', 'sepal width (cm)', 'petal length (cm)', 'petal width (cm)']\n"
          ]
        }
      ]
    },
    {
      "cell_type": "code",
      "source": [
        "print(iris.data)"
      ],
      "metadata": {
        "id": "S6PQSVBwXKuL"
      },
      "execution_count": null,
      "outputs": []
    },
    {
      "cell_type": "code",
      "source": [
        "print(iris.target)"
      ],
      "metadata": {
        "id": "uAodMlzNXTFT"
      },
      "execution_count": null,
      "outputs": []
    },
    {
      "cell_type": "code",
      "source": [
        "print(iris.target_names)"
      ],
      "metadata": {
        "id": "A30Wyc7QXd8y"
      },
      "execution_count": null,
      "outputs": []
    },
    {
      "cell_type": "code",
      "source": [
        "print(iris.DESCR)"
      ],
      "metadata": {
        "id": "BFL0mw36XjJQ"
      },
      "execution_count": null,
      "outputs": []
    },
    {
      "cell_type": "markdown",
      "source": [
        "**Import Data from open ml**"
      ],
      "metadata": {
        "id": "Dnmslqm4YU6Y"
      }
    },
    {
      "cell_type": "code",
      "source": [
        "import sklearn\n",
        "from sklearn import datasets\n",
        "from sklearn.datasets import fetch_openml\n",
        "mice=fetch_openml(name='miceprotein',version=4)\n",
        "mice.details"
      ],
      "metadata": {
        "colab": {
          "base_uri": "https://localhost:8080/"
        },
        "id": "Ps5uuIz6Yazn",
        "outputId": "febb721e-c398-48aa-adfc-ea0876cad035"
      },
      "execution_count": null,
      "outputs": [
        {
          "output_type": "execute_result",
          "data": {
            "text/plain": [
              "{'default_target_attribute': 'class',\n",
              " 'description_version': '1',\n",
              " 'file_id': '17928620',\n",
              " 'format': 'ARFF',\n",
              " 'id': '40966',\n",
              " 'ignore_attribute': ['Genotype', 'Treatment', 'Behavior'],\n",
              " 'licence': 'Public',\n",
              " 'md5_checksum': '3c479a6885bfa0438971388283a1ce32',\n",
              " 'name': 'MiceProtein',\n",
              " 'processing_date': '2018-10-04 00:49:58',\n",
              " 'row_id_attribute': 'MouseID',\n",
              " 'status': 'active',\n",
              " 'tag': ['OpenML-CC18', 'study_135', 'study_98', 'study_99'],\n",
              " 'upload_date': '2017-11-08T16:00:15',\n",
              " 'url': 'https://www.openml.org/data/v1/download/17928620/MiceProtein.arff',\n",
              " 'version': '4',\n",
              " 'visibility': 'public'}"
            ]
          },
          "metadata": {},
          "execution_count": 11
        }
      ]
    }
  ]
}