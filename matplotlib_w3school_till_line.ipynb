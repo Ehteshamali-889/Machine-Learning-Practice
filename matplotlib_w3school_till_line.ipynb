{
  "nbformat": 4,
  "nbformat_minor": 0,
  "metadata": {
    "colab": {
      "name": "matplotlib-w3school-till-line.ipynb",
      "provenance": []
    },
    "kernelspec": {
      "name": "python3",
      "display_name": "Python 3"
    },
    "language_info": {
      "name": "python"
    }
  },
  "cells": [
    {
      "cell_type": "code",
      "execution_count": null,
      "metadata": {
        "id": "vV3hvriQ-ebY"
      },
      "outputs": [],
      "source": [
        "import matplotlib.pyplot as plt\n",
        "import numpy as np\n",
        "\n",
        "xpoints=np.array([0,6])\n",
        "ypoints=np.array([0,250])\n",
        "\n",
        "plt.plot(xpoints,ypoints)\n",
        "plt.show()"
      ]
    },
    {
      "cell_type": "markdown",
      "source": [
        "**Plotting Without Line**"
      ],
      "metadata": {
        "id": "TFEKwbjn_vLG"
      }
    },
    {
      "cell_type": "code",
      "source": [
        "xpoints = np.array([1, 8])\n",
        "ypoints = np.array([3, 10])\n",
        "\n",
        "plt.plot(xpoints, ypoints, 'o')\n",
        "plt.show()"
      ],
      "metadata": {
        "id": "uL_sX2WC_jyw"
      },
      "execution_count": null,
      "outputs": []
    },
    {
      "cell_type": "code",
      "source": [
        "xpoints = np.array([1, 2, 6, 8])\n",
        "ypoints = np.array([3, 8, 1, 10])\n",
        "\n",
        "plt.plot(xpoints, ypoints)\n",
        "plt.show()"
      ],
      "metadata": {
        "id": "Ts_JrK88_3Al"
      },
      "execution_count": null,
      "outputs": []
    },
    {
      "cell_type": "markdown",
      "source": [
        "**Default X-Points**"
      ],
      "metadata": {
        "id": "Zdf4n9Z3ACvr"
      }
    },
    {
      "cell_type": "code",
      "source": [
        "ypoints = np.array([3, 8, 1, 10, 5, 7])\n",
        "\n",
        "plt.plot(ypoints)\n",
        "plt.show()"
      ],
      "metadata": {
        "id": "BKfe0VqmAALE"
      },
      "execution_count": null,
      "outputs": []
    },
    {
      "cell_type": "markdown",
      "source": [
        "**Markers**"
      ],
      "metadata": {
        "id": "ikk9lVD8AXc6"
      }
    },
    {
      "cell_type": "code",
      "source": [
        "ypoints = np.array([3, 8, 1, 10])\n",
        "\n",
        "#plt.plot(ypoints, marker = 'o')\n",
        "plt.plot(ypoints, marker = '*')\n",
        "plt.show()\n"
      ],
      "metadata": {
        "id": "Z92vLTEIANcL"
      },
      "execution_count": null,
      "outputs": []
    },
    {
      "cell_type": "markdown",
      "source": [
        "**Format Strings fmt**\n",
        "\n",
        "You can use also use the shortcut string notation parameter to specify the marker.\n",
        "\n",
        "This parameter is also called fmt, and is written with this syntax:\n",
        "marker|line|color"
      ],
      "metadata": {
        "id": "PybsdARJAuea"
      }
    },
    {
      "cell_type": "code",
      "source": [
        "plt.plot(ypoints, 'o:r')\n",
        "plt.show()"
      ],
      "metadata": {
        "id": "H9eQKnyvAqwe"
      },
      "execution_count": null,
      "outputs": []
    },
    {
      "cell_type": "markdown",
      "source": [
        "**Marker Size**"
      ],
      "metadata": {
        "id": "nr07nb3ABEqX"
      }
    },
    {
      "cell_type": "code",
      "source": [
        "plt.plot(ypoints, marker = 'o', ms = 20)\n",
        "plt.show()"
      ],
      "metadata": {
        "id": "kmAov5V1BAr_"
      },
      "execution_count": null,
      "outputs": []
    },
    {
      "cell_type": "markdown",
      "source": [
        "**Marker Color**\n",
        "\n",
        "You can use the keyword argument markeredgecolor or the shorter mec to set the color of the edge of the markers:"
      ],
      "metadata": {
        "id": "ji7sk34PBNzQ"
      }
    },
    {
      "cell_type": "code",
      "source": [
        "plt.plot(ypoints, marker = 'o', ms = 20, mec = 'r')\n",
        "plt.show()"
      ],
      "metadata": {
        "id": "VkLc6SGkBKqy"
      },
      "execution_count": null,
      "outputs": []
    },
    {
      "cell_type": "code",
      "source": [
        "plt.plot(ypoints, marker = 'o', ms = 20, mfc = 'r')\n",
        "plt.show()"
      ],
      "metadata": {
        "id": "s9Zm7EUvBb2_"
      },
      "execution_count": null,
      "outputs": []
    },
    {
      "cell_type": "code",
      "source": [
        "plt.plot(ypoints, marker = 'o', ms = 20, mec = '#4CAF50', mfc = '#4CAF50')\n",
        "plt.show()"
      ],
      "metadata": {
        "id": "it5yNRHYBhaz"
      },
      "execution_count": null,
      "outputs": []
    },
    {
      "cell_type": "code",
      "source": [
        "plt.plot(ypoints, linestyle = 'dotted')\n",
        "plt.show()"
      ],
      "metadata": {
        "id": "imWG7vhSBuJN"
      },
      "execution_count": null,
      "outputs": []
    },
    {
      "cell_type": "code",
      "source": [
        "plt.plot(ypoints, color = 'r')\n",
        "#plt.plot(ypoints, c = '#4CAF50')\n",
        "#plt.plot(ypoints, linewidth = '20.5')\n",
        "plt.show()"
      ],
      "metadata": {
        "id": "MKaWM-1hB5D0"
      },
      "execution_count": null,
      "outputs": []
    },
    {
      "cell_type": "markdown",
      "source": [
        "**Multiple Lines**"
      ],
      "metadata": {
        "id": "wz2rEsJdCKqs"
      }
    },
    {
      "cell_type": "code",
      "source": [
        "y1 = np.array([3, 8, 1, 10])\n",
        "y2 = np.array([6, 2, 7, 11])\n",
        "\n",
        "plt.plot(y1)\n",
        "plt.plot(y2)\n",
        "\n",
        "plt.show()"
      ],
      "metadata": {
        "id": "XwRFOKquCIiK"
      },
      "execution_count": null,
      "outputs": []
    },
    {
      "cell_type": "code",
      "source": [
        "x1 = np.array([0, 1, 2, 3])\n",
        "y1 = np.array([3, 8, 1, 10])\n",
        "x2 = np.array([0, 1, 2, 3])\n",
        "y2 = np.array([6, 2, 7, 11])\n",
        "\n",
        "plt.plot(x1, y1, x2, y2)\n",
        "plt.show()"
      ],
      "metadata": {
        "id": "dNljheQ3CQT2"
      },
      "execution_count": null,
      "outputs": []
    }
  ]
}